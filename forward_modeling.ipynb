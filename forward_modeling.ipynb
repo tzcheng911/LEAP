{
 "cells": [
  {
   "cell_type": "code",
   "execution_count": null,
   "metadata": {},
   "outputs": [],
   "source": [
    "import mne "
   ]
  },
  {
   "cell_type": "code",
   "execution_count": null,
   "metadata": {},
   "outputs": [],
   "source": [
    "## freesurfer MRI reconstruction\n",
    "# in commend line\n",
    "# my_subject=sample\n",
    "# my_NIfTI=/media/tzcheng/storage/vmmr/vMMR_901/sub-JA_T1w.nii.gz\n",
    "# recon-all -i $my_NIfTI -s $my_subject -all"
   ]
  },
  {
   "cell_type": "code",
   "execution_count": null,
   "metadata": {},
   "outputs": [],
   "source": [
    "## visualize freesurfer output\n",
    "sample_data_folder = '/media/tzcheng/storage/vmmr/vMMR_901/'\n",
    "subjects_dir = sample_data_folder \n",
    "Brain = mne.viz.get_brain_class()\n",
    "brain = Brain(\n",
    "    \"sample\", hemi=\"lh\", surf=\"pial\", subjects_dir=subjects_dir, size=(800, 600))\n",
    "brain.add_annotation(\"aparc.a2009s\", borders=False)"
   ]
  },
  {
   "cell_type": "code",
   "execution_count": null,
   "metadata": {},
   "outputs": [],
   "source": [
    "plot_bem_kwargs = dict(\n",
    "    subject=subject,\n",
    "    subjects_dir=subjects_dir,\n",
    "    brain_surfaces=\"white\",\n",
    "    orientation=\"coronal\",\n",
    "    slices=[50, 100, 150, 200],\n",
    ")\n",
    "\n",
    "mne.viz.plot_bem(**plot_bem_kwargs)"
   ]
  }
 ],
 "metadata": {
  "interpreter": {
   "hash": "b9403a71a29f11f16e034cea3de25a038ba9c3b172051f71c6a36078da7c2300"
  },
  "kernelspec": {
   "display_name": "Python 3.11.4 ('mne')",
   "language": "python",
   "name": "python3"
  },
  "language_info": {
   "codemirror_mode": {
    "name": "ipython",
    "version": 3
   },
   "file_extension": ".py",
   "mimetype": "text/x-python",
   "name": "python",
   "nbconvert_exporter": "python",
   "pygments_lexer": "ipython3",
   "version": "3.11.4"
  },
  "orig_nbformat": 4
 },
 "nbformat": 4,
 "nbformat_minor": 2
}
